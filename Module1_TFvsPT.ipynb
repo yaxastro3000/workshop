{
  "nbformat": 4,
  "nbformat_minor": 0,
  "metadata": {
    "colab": {
      "provenance": []
    },
    "kernelspec": {
      "name": "python3",
      "display_name": "Python 3"
    },
    "language_info": {
      "name": "python"
    }
  },
  "cells": [
    {
      "cell_type": "markdown",
      "source": [
        "# TensorFLow\n"
      ],
      "metadata": {
        "id": "2PVtM1mAQrus"
      }
    },
    {
      "cell_type": "markdown",
      "source": [
        "## Computational graphs\n",
        "\n",
        "In TensorFlow, computations are represented as directed acyclic graphs or computational graphs. Nodes represent operations or computations. These include mathematical operations, variable assignments, or high-level operations like neural network layers. Each node performs a specific operation on its input data and produces an output. On the other hand, edges represent the flow of data between nodes. They carry tensors, which are multi-dimensional arrays, from one node to another. Edges also define the dependencies between nodes, indicating the order in which operations should be executed. Tensors are the data structures that flow through the edges of the graph. They represent the inputs, outputs, and intermediate results of operations. Tensors can have various ranks, such as scalars, vectors, matrices, or higher-dimensional arrays, and are the fundamental building blocks in TensorFlow."
      ],
      "metadata": {
        "id": "Cxbx33tvQGF3"
      }
    },
    {
      "cell_type": "code",
      "execution_count": null,
      "metadata": {
        "colab": {
          "base_uri": "https://localhost:8080/"
        },
        "id": "rrnUcqvNPok7",
        "outputId": "ea872bd4-32b5-41ab-a6c0-cbc1a39f01fd"
      },
      "outputs": [
        {
          "output_type": "stream",
          "name": "stdout",
          "text": [
            "Computational Graph Nodes:\n",
            "tf.Tensor(2.0, shape=(), dtype=float32)\n",
            "tf.Tensor(3.0, shape=(), dtype=float32)\n",
            "tf.Tensor(5.0, shape=(), dtype=float32)\n"
          ]
        }
      ],
      "source": [
        "import tensorflow as tf\n",
        "\n",
        "# Define nodes in the computational graph\n",
        "a = tf.constant(2.0, name='a')\n",
        "b = tf.constant(3.0, name='b')\n",
        "c = tf.add(a, b, name='c')\n",
        "\n",
        "# Print the computational graph\n",
        "print(\"Computational Graph Nodes:\")\n",
        "print(a)\n",
        "print(b)\n",
        "print(c)"
      ]
    },
    {
      "cell_type": "markdown",
      "source": [
        "## Machine Learning models\n",
        "\n",
        "Image classification"
      ],
      "metadata": {
        "id": "QkXiArR9Qn3h"
      }
    },
    {
      "cell_type": "code",
      "source": [
        "import tensorflow as tf\n",
        "from tensorflow.keras import layers, models\n",
        "from tensorflow.keras.datasets import mnist\n",
        "\n",
        "# Load and preprocess the MNIST dataset\n",
        "(train_images, train_labels), (test_images, test_labels) = mnist.load_data()\n",
        "train_images, test_images = train_images / 255.0, test_images / 255.0  # Normalize pixel values to be between 0 and 1\n",
        "\n",
        "# Build a simple neural network using the Keras Sequential API\n",
        "model = models.Sequential([\n",
        "    layers.Flatten(input_shape=(28, 28)),  # Flatten 28x28 images to a 1D array\n",
        "    layers.Dense(128, activation='relu'),\n",
        "    layers.Dropout(0.2),\n",
        "    layers.Dense(10, activation='softmax')  # Output layer with 10 classes for digits 0-9\n",
        "])\n",
        "\n",
        "# Compile the model\n",
        "model.compile(optimizer='adam',\n",
        "              loss='sparse_categorical_crossentropy',\n",
        "              metrics=['accuracy'])\n",
        "\n",
        "# Train the model on the training data\n",
        "model.fit(train_images, train_labels, epochs=5, validation_data=(test_images, test_labels))\n",
        "\n",
        "# Evaluate the model on the test data\n",
        "test_loss, test_accuracy = model.evaluate(test_images, test_labels)\n",
        "print(f'Test accuracy: {test_accuracy * 100:.2f}%')"
      ],
      "metadata": {
        "colab": {
          "base_uri": "https://localhost:8080/"
        },
        "id": "T4exe_EKQX4A",
        "outputId": "1b85d9a9-08a9-4fc1-eb78-8e1678419db0"
      },
      "execution_count": null,
      "outputs": [
        {
          "output_type": "stream",
          "name": "stdout",
          "text": [
            "Downloading data from https://storage.googleapis.com/tensorflow/tf-keras-datasets/mnist.npz\n",
            "\u001b[1m11490434/11490434\u001b[0m \u001b[32m━━━━━━━━━━━━━━━━━━━━\u001b[0m\u001b[37m\u001b[0m \u001b[1m0s\u001b[0m 0us/step\n"
          ]
        },
        {
          "output_type": "stream",
          "name": "stderr",
          "text": [
            "/usr/local/lib/python3.10/dist-packages/keras/src/layers/reshaping/flatten.py:37: UserWarning: Do not pass an `input_shape`/`input_dim` argument to a layer. When using Sequential models, prefer using an `Input(shape)` object as the first layer in the model instead.\n",
            "  super().__init__(**kwargs)\n"
          ]
        },
        {
          "output_type": "stream",
          "name": "stdout",
          "text": [
            "Epoch 1/5\n",
            "\u001b[1m1875/1875\u001b[0m \u001b[32m━━━━━━━━━━━━━━━━━━━━\u001b[0m\u001b[37m\u001b[0m \u001b[1m8s\u001b[0m 4ms/step - accuracy: 0.8579 - loss: 0.4833 - val_accuracy: 0.9530 - val_loss: 0.1562\n",
            "Epoch 2/5\n",
            "\u001b[1m1875/1875\u001b[0m \u001b[32m━━━━━━━━━━━━━━━━━━━━\u001b[0m\u001b[37m\u001b[0m \u001b[1m11s\u001b[0m 4ms/step - accuracy: 0.9550 - loss: 0.1545 - val_accuracy: 0.9700 - val_loss: 0.1023\n",
            "Epoch 3/5\n",
            "\u001b[1m1875/1875\u001b[0m \u001b[32m━━━━━━━━━━━━━━━━━━━━\u001b[0m\u001b[37m\u001b[0m \u001b[1m10s\u001b[0m 4ms/step - accuracy: 0.9665 - loss: 0.1123 - val_accuracy: 0.9715 - val_loss: 0.0910\n",
            "Epoch 4/5\n",
            "\u001b[1m1875/1875\u001b[0m \u001b[32m━━━━━━━━━━━━━━━━━━━━\u001b[0m\u001b[37m\u001b[0m \u001b[1m11s\u001b[0m 5ms/step - accuracy: 0.9734 - loss: 0.0904 - val_accuracy: 0.9757 - val_loss: 0.0813\n",
            "Epoch 5/5\n",
            "\u001b[1m1875/1875\u001b[0m \u001b[32m━━━━━━━━━━━━━━━━━━━━\u001b[0m\u001b[37m\u001b[0m \u001b[1m9s\u001b[0m 5ms/step - accuracy: 0.9769 - loss: 0.0747 - val_accuracy: 0.9767 - val_loss: 0.0754\n",
            "\u001b[1m313/313\u001b[0m \u001b[32m━━━━━━━━━━━━━━━━━━━━\u001b[0m\u001b[37m\u001b[0m \u001b[1m1s\u001b[0m 2ms/step - accuracy: 0.9727 - loss: 0.0890\n",
            "Test accuracy: 97.67%\n"
          ]
        }
      ]
    },
    {
      "cell_type": "markdown",
      "source": [],
      "metadata": {
        "id": "aUU2g3cAT_6a"
      }
    },
    {
      "cell_type": "markdown",
      "source": [
        "# PyTorch"
      ],
      "metadata": {
        "id": "PNOkIn3TR35t"
      }
    },
    {
      "cell_type": "markdown",
      "source": [
        "## Pytorch and NumPy integration"
      ],
      "metadata": {
        "id": "fVqa0N_RR_R1"
      }
    },
    {
      "cell_type": "code",
      "source": [
        "import torch\n",
        "# Creating a tensor\n",
        "x = torch.tensor([1, 2, 3])\n",
        "\n",
        "# Converting to NumPy array\n",
        "numpy_array = x.numpy()\n",
        "\n",
        "print('pytorch array:', x)\n",
        "print('numpy array:', numpy_array)"
      ],
      "metadata": {
        "colab": {
          "base_uri": "https://localhost:8080/"
        },
        "id": "EjhDSwnyROYo",
        "outputId": "c481fb35-5711-435c-d488-a316ccc05953"
      },
      "execution_count": null,
      "outputs": [
        {
          "output_type": "stream",
          "name": "stdout",
          "text": [
            "pytorch array: tensor([1, 2, 3])\n",
            "numpy array: [1 2 3]\n"
          ]
        }
      ]
    },
    {
      "cell_type": "markdown",
      "source": [
        "## Dynamic computational graph\n",
        "\n",
        "PyTorch’s dynamic computational graph allows for defining and modifying the computation graph on the fly. This contrasts with static computation graphs used by some other deep learning frameworks. The dynamic nature of PyTorch’s computational graph is advantageous during model development and debugging because we can print, modify, or analyze the computation graph at runtime. The requires_grad attribute on tensors enables automatic differentiation, allowing the computation of gradients for backpropagation."
      ],
      "metadata": {
        "id": "TRfalpYCSZFJ"
      }
    },
    {
      "cell_type": "code",
      "source": [
        "import torch\n",
        "\n",
        "x = torch.tensor([1.0, 2.0, 3.0], requires_grad=True)\n",
        "y = x**2\n",
        "z = y.mean()\n",
        "\n",
        "z.backward()\n",
        "print(x.grad)"
      ],
      "metadata": {
        "colab": {
          "base_uri": "https://localhost:8080/"
        },
        "id": "avM63ayrSJ3H",
        "outputId": "b7a7ee3c-c8a5-452f-e980-5d28f3bdcb96"
      },
      "execution_count": null,
      "outputs": [
        {
          "output_type": "stream",
          "name": "stdout",
          "text": [
            "tensor([0.6667, 1.3333, 2.0000])\n"
          ]
        }
      ]
    },
    {
      "cell_type": "markdown",
      "source": [
        "Here’s a similar Tensorflow code with static graph implementation:"
      ],
      "metadata": {
        "id": "Bm_cAGQ6Sn7A"
      }
    },
    {
      "cell_type": "code",
      "source": [
        "import tensorflow as tf\n",
        "\n",
        "# Define inputs\n",
        "x = tf.Variable([1.0, 2.0, 3.0], dtype=tf.float32)\n",
        "\n",
        "# Define computation\n",
        "y = x ** 2\n",
        "z = tf.reduce_mean(y)\n",
        "\n",
        "# Build static computation graph\n",
        "with tf.GradientTape() as tape:\n",
        "    tape.watch(x)\n",
        "    z = tf.reduce_mean(x ** 2)\n",
        "\n",
        "# Perform backward pass\n",
        "grads = tape.gradient(z, x)\n",
        "\n",
        "# Print gradients\n",
        "print(\"Gradients of x:\", grads.numpy())"
      ],
      "metadata": {
        "colab": {
          "base_uri": "https://localhost:8080/"
        },
        "id": "QFME1naISgom",
        "outputId": "2bfbc049-e2ea-423b-bbd8-5913c281b1cd"
      },
      "execution_count": null,
      "outputs": [
        {
          "output_type": "stream",
          "name": "stdout",
          "text": [
            "Gradients of x: [0.6666667 1.3333334 2.       ]\n"
          ]
        }
      ]
    },
    {
      "cell_type": "markdown",
      "source": [
        "## Machine learning algorithms\n",
        "\n",
        "As a dynamic and versatile deep learning library, PyTorch supports various machine learning algorithms catering to various tasks. Let’s take a look at a simple linear regression model implemented in PyTorch:"
      ],
      "metadata": {
        "id": "yK0r6oVyTAMZ"
      }
    },
    {
      "cell_type": "code",
      "source": [
        "import torch\n",
        "import torch.nn as nn\n",
        "import torch.optim as optim\n",
        "import matplotlib.pyplot as plt\n",
        "\n",
        "# Step 1: Create a Synthetic Dataset\n",
        "torch.manual_seed(42)  # Setting a seed for reproducibility\n",
        "\n",
        "# Generating synthetic data\n",
        "X = 2 * torch.rand(100, 1)\n",
        "y = 4 + 3 * X + 0.1 * torch.randn(100, 1)\n",
        "\n",
        "# Step 2: Define the Model\n",
        "class LinearRegressionModel(nn.Module):\n",
        "    def __init__(self):\n",
        "        super(LinearRegressionModel, self).__init__()\n",
        "        self.linear = nn.Linear(1, 1)\n",
        "\n",
        "    def forward(self, x):\n",
        "        return self.linear(x)\n",
        "\n",
        "# Create an instance of the model\n",
        "model = LinearRegressionModel()\n",
        "\n",
        "# Step 3: Specify Loss Function and Optimizer\n",
        "criterion = nn.MSELoss()  # Mean Squared Error Loss\n",
        "optimizer = optim.SGD(model.parameters(), lr=0.01)  # Stochastic Gradient Descent\n",
        "\n",
        "# Step 4: Training the Model\n",
        "num_epochs = 1000\n",
        "\n",
        "for epoch in range(num_epochs):\n",
        "    # Forward pass\n",
        "    outputs = model(X)\n",
        "    loss = criterion(outputs, y)\n",
        "\n",
        "    # Backward and optimize\n",
        "    optimizer.zero_grad()\n",
        "    loss.backward()\n",
        "    optimizer.step()\n",
        "\n",
        "    if (epoch+1) % 100 == 0:\n",
        "        print(f'Epoch [{epoch+1}/{num_epochs}], Loss: {loss.item():.4f}')\n",
        "\n",
        "# Step 5: Make Predictions and Visualize\n",
        "with torch.no_grad():\n",
        "    predicted = model(X)\n",
        "\n",
        "plt.scatter(X.numpy(), y.numpy(), label='Original data')\n",
        "plt.plot(X.numpy(), predicted.numpy(), 'r-', label='Fitted line')\n",
        "plt.legend()\n",
        "plt.show()"
      ],
      "metadata": {
        "colab": {
          "base_uri": "https://localhost:8080/",
          "height": 604
        },
        "id": "--l9WriLSvnd",
        "outputId": "ff43e3f0-8404-4629-f2a0-f2d6aaee8b61"
      },
      "execution_count": null,
      "outputs": [
        {
          "output_type": "stream",
          "name": "stdout",
          "text": [
            "Epoch [100/1000], Loss: 0.2024\n",
            "Epoch [200/1000], Loss: 0.1098\n",
            "Epoch [300/1000], Loss: 0.0627\n",
            "Epoch [400/1000], Loss: 0.0371\n",
            "Epoch [500/1000], Loss: 0.0232\n",
            "Epoch [600/1000], Loss: 0.0156\n",
            "Epoch [700/1000], Loss: 0.0115\n",
            "Epoch [800/1000], Loss: 0.0093\n",
            "Epoch [900/1000], Loss: 0.0081\n",
            "Epoch [1000/1000], Loss: 0.0074\n"
          ]
        },
        {
          "output_type": "display_data",
          "data": {
            "text/plain": [
              "<Figure size 640x480 with 1 Axes>"
            ],
            "image/png": "[encoded data removed]"
          },
          "metadata": {}
        }
      ]
    },
    {
      "cell_type": "markdown",
      "source": [
        "Tensorflow vs. PyTorch\n",
        "\n",
        "Let’s dive into some key differences of both libraries:\n",
        "\n",
        "- **Computational graphs**: TensorFlow uses a static computational graph, while PyTorch employs a dynamic one. This impacts the flexibility and ease of debugging during model development.\n",
        "- **Usability**: PyTorch is often considered more intuitive and user-friendly, especially for those new to deep learning. TensorFlow’s learning curve can be steeper, but TensorFlow 2.0 and the adoption of Keras have made it more accessible.\n",
        "- **Community**: Both frameworks have large and active communities, but PyTorch gained popularity in the research community due to its dynamic nature. TensorFlow is widely adopted in the industry and has extensive tooling for deployment.\n",
        "- **Model deployment**: TensorFlow is often chosen for production deployments due to its static graph nature and better integration with TensorFlow Serving. PyTorch has made strides in deployment tools like TorchServe, but TensorFlow is still popular in production environments.\n",
        "\n",
        "In summary, the choice between TensorFlow and PyTorch depends on personal preference, the nature of the project, and whether the focus is on production deployment or research and experimentation. Both frameworks are powerful and capable, and developers often find themselves comfortable with either based on their specific needs and experiences."
      ],
      "metadata": {
        "id": "Wz7pfrsCThT4"
      }
    },
    {
      "cell_type": "code",
      "source": [],
      "metadata": {
        "id": "T2ksp7NFTFmC"
      },
      "execution_count": null,
      "outputs": []
    }
  ]
}